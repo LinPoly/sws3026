{
 "cells": [
  {
   "cell_type": "code",
   "execution_count": 18,
   "metadata": {},
   "outputs": [],
   "source": [
    "import os\n",
    "import numpy as np\n",
    "import cvxpy as cp\n",
    "import cv2 as cv\n",
    "from sklearn.preprocessing import normalize, StandardScaler\n",
    "from sklearn.decomposition import PCA"
   ]
  },
  {
   "cell_type": "code",
   "execution_count": 19,
   "metadata": {},
   "outputs": [],
   "source": [
    "def random_face(feat_mat: np.ndarray, dim: int) -> np.ndarray:\n",
    "    kernel = np.random.normal(size=[feat_mat.shape[1], dim])\n",
    "    kernel = normalize(kernel)\n",
    "    return feat_mat @ kernel"
   ]
  },
  {
   "cell_type": "code",
   "execution_count": 20,
   "metadata": {},
   "outputs": [],
   "source": [
    "# def pca_feature(X_train: np.ndarray, X_test, dim: int)\n",
    "#     pca = PCA(n_components=100, svd_solver=\"randomized\", whiten=True)\n",
    "#     pca.fit(X_train)\n",
    "#     return pca.transform(X_train), pca.transform(X_test)"
   ]
  },
  {
   "cell_type": "code",
   "execution_count": 21,
   "metadata": {},
   "outputs": [],
   "source": [
    "def cone_programming(feat_mat: np.ndarray, input: np.ndarray, epsilon: int) -> np.ndarray:\n",
    "    lin_para = cp.Variable(feat_mat.shape[0])\n",
    "    cons = cp.SOC(epsilon, lin_para @ feat_mat - input)\n",
    "    obj_func = cp.Minimize(cp.norm(lin_para, p=1))\n",
    "    prob = cp.Problem(obj_func, [cons])\n",
    "    prob.solve()\n",
    "    return lin_para.value"
   ]
  },
  {
   "cell_type": "code",
   "execution_count": 22,
   "metadata": {},
   "outputs": [],
   "source": [
    "def sc_index(k: int, num_per_id: int, x: np.ndarray):\n",
    "    l1_norm = np.sum(np.abs(x))\n",
    "    ratio = 0\n",
    "    for i in range(k):\n",
    "        this_ratio = np.sum(np.abs(x[i*num_per_id:(i+1)*num_per_id]))\n",
    "        this_ratio /= l1_norm\n",
    "        ratio = np.max([ratio, this_ratio])\n",
    "    sc_idx = (k*ratio - 1) / (k-1)\n",
    "    return sc_idx"
   ]
  },
  {
   "cell_type": "code",
   "execution_count": 23,
   "metadata": {},
   "outputs": [],
   "source": [
    "nomask_path = \"D:\\\\Code_uc\\\\face_reco\\\\output\\\\dataset_nomask\"\n",
    "mask_path = \"D:\\\\Code_uc\\\\face_reco\\\\output\\\\dataset_mask\"\n",
    "ag_nomask_path = \"D:\\\\Code_uc\\\\face_reco\\\\output\\\\augment_nomask\"\n",
    "ag_mask_path = \"D:\\\\Code_uc\\\\face_reco\\\\output\\\\augment_mask\""
   ]
  },
  {
   "cell_type": "code",
   "execution_count": 24,
   "metadata": {},
   "outputs": [],
   "source": [
    "X = []\n",
    "for i, subject_name in enumerate(os.listdir(ag_nomask_path)):\n",
    "    subject_images_dir = os.path.join(ag_nomask_path, subject_name)\n",
    "    for img_name in os.listdir(subject_images_dir):\n",
    "        img_path = os.path.join(subject_images_dir, img_name)\n",
    "        img = cv.imread(img_path, cv.IMREAD_GRAYSCALE)\n",
    "        img = np.reshape(img, [-1])\n",
    "        X.append(img)\n",
    "\n",
    "X = np.asarray(X)"
   ]
  },
  {
   "cell_type": "code",
   "execution_count": 25,
   "metadata": {},
   "outputs": [],
   "source": [
    "# foo = np.arange(9)\n",
    "# sc_index(3, 3, foo)"
   ]
  },
  {
   "cell_type": "code",
   "execution_count": 26,
   "metadata": {},
   "outputs": [],
   "source": [
    "# idx = 5\n",
    "# input = feat_mat[idx]\n",
    "# X = np.vstack([feat_mat[:idx], feat_mat[idx+1:]])"
   ]
  },
  {
   "cell_type": "code",
   "execution_count": 27,
   "metadata": {},
   "outputs": [],
   "source": [
    "# feat_mat = random_face(X, feat_size)\n",
    "# feat_mat = normalize(feat_mat)"
   ]
  },
  {
   "cell_type": "code",
   "execution_count": 28,
   "metadata": {},
   "outputs": [],
   "source": [
    "# scaler = StandardScaler()\n",
    "# feat_mat = scaler.fit_transform(X)\n",
    "# pca = PCA(n_components=50, svd_solver=\"randomized\", whiten=True)\n",
    "# pca.fit(feat_mat)\n",
    "# feat_mat = pca.transform(feat_mat)# "
   ]
  },
  {
   "cell_type": "code",
   "execution_count": 29,
   "metadata": {},
   "outputs": [],
   "source": [
    "X_rj = X[2400:]\n",
    "X_train = np.ndarray(shape=[0, 22500])\n",
    "X_ac = np.ndarray(shape=[0, 22500])\n",
    "for i in range(40):\n",
    "    X_train = np.vstack([X_train, X[i*60:i*60+44]])\n",
    "    X_ac = np.vstack([X_ac, X[i*60+44:(i+1)*60]])"
   ]
  },
  {
   "cell_type": "code",
   "execution_count": 30,
   "metadata": {},
   "outputs": [],
   "source": [
    "scaler = StandardScaler()\n",
    "X_train = scaler.fit_transform(X_train)\n",
    "X_ac = scaler.transform(X_ac)\n",
    "X_rj = scaler.transform(X_rj)\n",
    "pca = PCA(n_components=50, svd_solver=\"randomized\", whiten=True)\n",
    "pca.fit(X_train)\n",
    "X_train = pca.transform(X_train)\n",
    "X_ac = pca.transform(X_ac)\n",
    "X_rj = pca.transform(X_rj)"
   ]
  },
  {
   "cell_type": "code",
   "execution_count": 31,
   "metadata": {},
   "outputs": [],
   "source": [
    "sc_rj = []\n",
    "sc_ac = []\n",
    "for rj_input in X_rj:\n",
    "    para = cone_programming(X_train, rj_input, 5e-4)\n",
    "    sc_idx = sc_index(40, 44, para)\n",
    "    sc_rj.append(sc_idx)\n",
    "\n",
    "for ac_input in X_ac:\n",
    "    para = cone_programming(X_train, ac_input, 5e-4)\n",
    "    sc_idx = sc_index(40, 44, para)\n",
    "    sc_ac.append(sc_idx)\n",
    "\n",
    "sc_rj = np.asarray(sc_rj)\n",
    "sc_ac = np.asarray(sc_ac)\n"
   ]
  },
  {
   "cell_type": "code",
   "execution_count": 36,
   "metadata": {},
   "outputs": [
    {
     "name": "stdout",
     "output_type": "stream",
     "text": [
      "515 486\n"
     ]
    }
   ],
   "source": [
    "rj_num = np.count_nonzero(sc_rj < 0.16)\n",
    "ac_num = np.count_nonzero(sc_ac > 0.16)\n",
    "print(rj_num, ac_num)"
   ]
  },
  {
   "cell_type": "code",
   "execution_count": 33,
   "metadata": {},
   "outputs": [],
   "source": [
    "# idx = 5\n",
    "# input = feat_mat[5]\n",
    "# X_train = np.vstack([feat_mat[:idx], feat_mat[idx+1:]])\n",
    "# para = cone_programming(X_train, input, 1e-4)\n",
    "# big_item = np.nonzero(np.abs(para) > 0.05)"
   ]
  },
  {
   "cell_type": "code",
   "execution_count": 34,
   "metadata": {},
   "outputs": [],
   "source": [
    "# para[big_item[0]]"
   ]
  }
 ],
 "metadata": {
  "kernelspec": {
   "display_name": "Python 3.8.13 ('PythonVision')",
   "language": "python",
   "name": "python3"
  },
  "language_info": {
   "codemirror_mode": {
    "name": "ipython",
    "version": 3
   },
   "file_extension": ".py",
   "mimetype": "text/x-python",
   "name": "python",
   "nbconvert_exporter": "python",
   "pygments_lexer": "ipython3",
   "version": "3.8.13"
  },
  "orig_nbformat": 4,
  "vscode": {
   "interpreter": {
    "hash": "ba7850289dbe4252bc1bd25976b768ae2a5d6a76e4571a8cb7dd7bccc0abcbb8"
   }
  }
 },
 "nbformat": 4,
 "nbformat_minor": 2
}
