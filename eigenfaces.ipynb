{
 "cells": [
  {
   "cell_type": "code",
   "execution_count": 1,
   "metadata": {},
   "outputs": [],
   "source": [
    "import os\n",
    "import numpy as np\n",
    "import cv2 as cv\n",
    "from scipy.stats import loguniform, entropy\n",
    "from sklearn.preprocessing import StandardScaler\n",
    "from sklearn.model_selection import train_test_split\n",
    "from sklearn.decomposition import PCA\n",
    "from sklearn.svm import SVC\n",
    "from sklearn.discriminant_analysis import LinearDiscriminantAnalysis as LDA\n",
    "from sklearn.model_selection import RandomizedSearchCV"
   ]
  },
  {
   "cell_type": "code",
   "execution_count": 2,
   "metadata": {},
   "outputs": [],
   "source": [
    "# read data\n",
    "nomask_path = \"D:\\\\Code_uc\\\\face_reco\\\\output\\\\dataset_nomask\"\n",
    "mask_path = \"D:\\\\Code_uc\\\\face_reco\\\\output\\\\dataset_mask\"\n",
    "ag_nomask_path = \"D:\\\\Code_uc\\\\face_reco\\\\output\\\\augment_nomask\"\n",
    "ag_mask_path = \"D:\\\\Code_uc\\\\face_reco\\\\output\\\\augment_mask\"\n",
    "X = []\n",
    "y_multi = []\n",
    "for i, subject_name in enumerate(os.listdir(mask_path)):\n",
    "    subject_images_dir = os.path.join(mask_path, subject_name)\n",
    "    y_multi.extend([int(subject_name[1:])]*15)\n",
    "    for img_name in os.listdir(subject_images_dir):\n",
    "        img_path = os.path.join(subject_images_dir, img_name)\n",
    "        img = cv.imread(img_path, cv.IMREAD_GRAYSCALE)\n",
    "        # img = np.reshape(img, [-1]) \n",
    "        X.append(img)\n",
    "X = np.asarray(X)\n",
    "y = np.asarray([1] * 450 + [0] * 300) # change this"
   ]
  },
  {
   "cell_type": "code",
   "execution_count": 3,
   "metadata": {},
   "outputs": [],
   "source": [
    "X_train, X_ac, y_train, y_ac = train_test_split(X[:600], y_multi[:600])\n",
    "X_rj = X[600:]\n",
    "gamma = 0.4\n",
    "look_up_table = np.arange(256, dtype=np.float32)\n",
    "look_up_table = (look_up_table/255.0)**gamma * 255\n",
    "look_up_table = np.clip(look_up_table, 0, 255)"
   ]
  },
  {
   "cell_type": "code",
   "execution_count": 4,
   "metadata": {},
   "outputs": [],
   "source": [
    "def data_augmentation(X):\n",
    "    aug_imgs_1 = []\n",
    "    aug_imgs_2 = []\n",
    "    aug_imgs_3 = []\n",
    "    for img in X:\n",
    "        img_1 = np.roll(img, 5, axis=1)\n",
    "        img_2 = np.roll(img, -5, axis=1)\n",
    "        img_3 = cv.LUT(img, look_up_table)\n",
    "        img_3 = img_3.astype(np.uint8)\n",
    "        aug_imgs_1.append(img_1)\n",
    "        aug_imgs_2.append(img_2)\n",
    "        aug_imgs_3.append(img_3)\n",
    "    aug_imgs_1 = np.asarray(aug_imgs_1)\n",
    "    aug_imgs_2 = np.asarray(aug_imgs_2)\n",
    "    aug_imgs_3 = np.asarray(aug_imgs_3)\n",
    "    return np.vstack([X, aug_imgs_1, aug_imgs_2, aug_imgs_3])"
   ]
  },
  {
   "cell_type": "code",
   "execution_count": 5,
   "metadata": {},
   "outputs": [],
   "source": [
    "X_train = data_augmentation(X_train)\n",
    "X_ac = data_augmentation(X_ac)\n",
    "X_rj = data_augmentation(X_rj)\n",
    "y_ac = y_ac * 4\n",
    "y_train = y_train * 4"
   ]
  },
  {
   "cell_type": "code",
   "execution_count": 6,
   "metadata": {},
   "outputs": [],
   "source": [
    "X_train = X_train.reshape([X_train.shape[0], -1])\n",
    "X_ac = X_ac.reshape([X_ac.shape[0], -1])\n",
    "X_rj = X_rj.reshape([X_rj.shape[0], -1])"
   ]
  },
  {
   "cell_type": "code",
   "execution_count": 7,
   "metadata": {},
   "outputs": [],
   "source": [
    "scaler = StandardScaler()\n",
    "X_train = scaler.fit_transform(X_train)\n",
    "X_ac = scaler.transform(X_ac)\n",
    "X_rj = scaler.transform(X_rj)\n",
    "pca = PCA(n_components=50, svd_solver=\"randomized\", whiten=True)\n",
    "pca.fit(X_train)\n",
    "X_train_trans = pca.transform(X_train)\n",
    "X_ac_trans = pca.transform(X_ac)\n",
    "X_rj_trans = pca.transform(X_rj)"
   ]
  },
  {
   "cell_type": "code",
   "execution_count": 8,
   "metadata": {},
   "outputs": [],
   "source": [
    "# feature transformation: LDA\n",
    "# lda = LDA(n_components=29)\n",
    "# lda.fit(X_train, y_train)\n",
    "# X_train_lda = lda.transform(X_train)\n",
    "# X_ac_lda = lda.transform(X_ac)\n",
    "# X_rj_lda = lda.transform(X_rj)\n",
    "# X_train_trans = np.hstack([X_train_trans, X_train_lda])\n",
    "# X_ac_trans = np.hstack([X_ac_trans, X_ac_lda])\n",
    "# X_rj_trans = np.hstack([X_rj_trans, X_rj_lda])"
   ]
  },
  {
   "cell_type": "code",
   "execution_count": 20,
   "metadata": {},
   "outputs": [
    {
     "data": {
      "text/plain": [
       "0.7683333333333333"
      ]
     },
     "execution_count": 20,
     "metadata": {},
     "output_type": "execute_result"
    }
   ],
   "source": [
    "clf = SVC(C=1, kernel=\"rbf\", probability=True)\n",
    "clf.fit(X_train_trans, y_train)\n",
    "clf.score(X_ac_trans, y_ac)"
   ]
  },
  {
   "cell_type": "code",
   "execution_count": 21,
   "metadata": {},
   "outputs": [
    {
     "data": {
      "text/plain": [
       "'scale'"
      ]
     },
     "execution_count": 21,
     "metadata": {},
     "output_type": "execute_result"
    }
   ],
   "source": [
    "clf.gamma"
   ]
  },
  {
   "cell_type": "code",
   "execution_count": 17,
   "metadata": {},
   "outputs": [],
   "source": [
    "param_grid = {\n",
    "    \"C\": loguniform(1, 1e3),\n",
    "    \"gamma\": loguniform(1e-6, 1e-1),\n",
    "}\n",
    "opt_clf = RandomizedSearchCV(\n",
    "    SVC(kernel=\"rbf\", class_weight=\"balanced\", probability=True), param_grid, n_iter=10\n",
    ")\n",
    "opt_clf = opt_clf.fit(X_train_trans, y_train)"
   ]
  },
  {
   "cell_type": "code",
   "execution_count": 23,
   "metadata": {},
   "outputs": [
    {
     "name": "stdout",
     "output_type": "stream",
     "text": [
      "495 387\n",
      "0.7866666666666666\n",
      "SVC(C=229.83966753397146, class_weight='balanced', gamma=0.004163590164587884,\n",
      "    probability=True)\n"
     ]
    }
   ],
   "source": [
    "eval_clf = opt_clf\n",
    "prob_rj, prob_ac = eval_clf.predict_proba(X_rj_trans), eval_clf.predict_proba(X_ac_trans)\n",
    "max_prob_rj = np.max(prob_rj, axis=1)\n",
    "max_prob_ac = np.max(prob_ac, axis=1)\n",
    "num_rj = np.count_nonzero(max_prob_rj < 0.4)\n",
    "num_ac = np.count_nonzero(max_prob_ac > 0.4)\n",
    "\n",
    "print(num_rj, num_ac)\n",
    "print(eval_clf.score(X_ac_trans, y_ac))\n",
    "print(eval_clf.best_estimator_)"
   ]
  },
  {
   "cell_type": "code",
   "execution_count": 12,
   "metadata": {},
   "outputs": [],
   "source": [
    "entropy_ac = []\n",
    "entropy_rj = []\n",
    "for prob in prob_ac:\n",
    "    entropy_ac.append(entropy(prob))\n",
    "for prob in prob_rj:\n",
    "    entropy_rj.append(entropy(prob))\n",
    "\n",
    "entropy_ac, entropy_rj = np.asarray(entropy_ac), np.asarray(entropy_rj)"
   ]
  },
  {
   "cell_type": "code",
   "execution_count": 13,
   "metadata": {},
   "outputs": [
    {
     "name": "stdout",
     "output_type": "stream",
     "text": [
      "408 459\n"
     ]
    }
   ],
   "source": [
    "num_ac = np.count_nonzero(entropy_ac < 2.5)\n",
    "num_rj = np.count_nonzero(entropy_rj > 2.5)\n",
    "print(num_ac, num_rj)"
   ]
  },
  {
   "cell_type": "code",
   "execution_count": 14,
   "metadata": {},
   "outputs": [
    {
     "data": {
      "text/plain": [
       "0.9988888888888889"
      ]
     },
     "execution_count": 14,
     "metadata": {},
     "output_type": "execute_result"
    }
   ],
   "source": [
    "from sklearn.metrics import accuracy_score\n",
    "y_pred = eval_clf.predict(X_train_trans)\n",
    "accuracy_score(y_train, y_pred)\n",
    "y_pred_ac = eval_clf.predict(X_ac_trans)\n",
    "# considerable performance drop & very high training set accuracy"
   ]
  },
  {
   "cell_type": "code",
   "execution_count": 28,
   "metadata": {},
   "outputs": [
    {
     "data": {
      "image/png": "[encoded data removed]",
      "text/plain": [
       "<Figure size 432x288 with 2 Axes>"
      ]
     },
     "metadata": {
      "needs_background": "light"
     },
     "output_type": "display_data"
    }
   ],
   "source": [
    "from dis import dis\n",
    "from sklearn.metrics import confusion_matrix, ConfusionMatrixDisplay\n",
    "import matplotlib.pyplot as plt\n",
    "\n",
    "y_pred_ac = eval_clf.predict(X_ac_trans)\n",
    "cf_mat = confusion_matrix(y_ac, y_pred_ac)\n",
    "disp = ConfusionMatrixDisplay(cf_mat, display_labels=eval_clf.classes_)\n",
    "disp.plot()\n",
    "plt.show()"
   ]
  }
 ],
 "metadata": {
  "kernelspec": {
   "display_name": "Python 3.8.13 ('PythonVision')",
   "language": "python",
   "name": "python3"
  },
  "language_info": {
   "codemirror_mode": {
    "name": "ipython",
    "version": 3
   },
   "file_extension": ".py",
   "mimetype": "text/x-python",
   "name": "python",
   "nbconvert_exporter": "python",
   "pygments_lexer": "ipython3",
   "version": "3.8.13"
  },
  "orig_nbformat": 4,
  "vscode": {
   "interpreter": {
    "hash": "ba7850289dbe4252bc1bd25976b768ae2a5d6a76e4571a8cb7dd7bccc0abcbb8"
   }
  }
 },
 "nbformat": 4,
 "nbformat_minor": 2
}
